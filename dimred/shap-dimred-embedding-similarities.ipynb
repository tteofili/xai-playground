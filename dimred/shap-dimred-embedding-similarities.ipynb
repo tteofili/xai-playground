{
 "cells": [
  {
   "cell_type": "code",
   "execution_count": null,
   "metadata": {},
   "outputs": [],
   "source": []
  },
  {
   "cell_type": "code",
   "execution_count": 1,
   "metadata": {},
   "outputs": [],
   "source": [
    "import numpy as np\n",
    "import pickle\n",
    "import gensim\n",
    "from gensim.test.utils import datapath, get_tmpfile\n",
    "from gensim.models import Word2Vec\n",
    "from gensim.scripts.glove2word2vec import glove2word2vec\n",
    "import shap\n",
    "import pandas"
   ]
  },
  {
   "cell_type": "code",
   "execution_count": 2,
   "metadata": {},
   "outputs": [],
   "source": [
    "glove_file = datapath('glove.6B.300d.txt')\n",
    "tmp_file = get_tmpfile(\"test_word2vec.txt\")\n",
    "\n",
    "_ = glove2word2vec(glove_file, tmp_file)\n",
    "\n",
    "glove_model = gensim.models.KeyedVectors.load_word2vec_format(tmp_file)\n"
   ]
  },
  {
   "cell_type": "code",
   "execution_count": 3,
   "metadata": {},
   "outputs": [],
   "source": [
    "def nidxv(v, model):\n",
    "    res = model.similar_by_vector(v)\n",
    "    ridxs = np.zeros(model.vectors.shape[0], dtype='float64')\n",
    "    i = 0\n",
    "    for r in res:\n",
    "        ridxs[glove_model.vocab[r[0]].index] = r[1]\n",
    "    return softmax(ridxs)"
   ]
  },
  {
   "cell_type": "code",
   "execution_count": 4,
   "metadata": {},
   "outputs": [],
   "source": [
    "def softmax(x):\n",
    "    return np.exp(x)/sum(np.exp(x))\n"
   ]
  },
  {
   "cell_type": "code",
   "execution_count": 5,
   "metadata": {},
   "outputs": [],
   "source": [
    "def nidx(word, model):\n",
    "    res = model.most_similar(positive=[word])\n",
    "    ridxs = np.empty(len(res), dtype='float64')\n",
    "    i = 0\n",
    "    for r in res:\n",
    "        ridxs[i]= glove_model.vocab[r[0]].index\n",
    "        i = i+1\n",
    "    return ridxs"
   ]
  },
  {
   "cell_type": "code",
   "execution_count": 6,
   "metadata": {},
   "outputs": [],
   "source": [
    "def sim_vec(vecs):\n",
    "    res = np.zeros((vecs.shape[0], glove_model.vectors.shape[0]))\n",
    "    i = 0\n",
    "    for v in vecs:\n",
    "        res[i] = nidxv(v, glove_model)\n",
    "        i = i+1\n",
    "    return res\n",
    "    "
   ]
  },
  {
   "cell_type": "code",
   "execution_count": 7,
   "metadata": {},
   "outputs": [
    {
     "name": "stdout",
     "output_type": "stream",
     "text": [
      "[-0.29784   -0.13255   -0.14505   -0.22752   -0.027429   0.11005\n",
      " -0.039245  -0.0089607 -0.18866   -1.1213     0.34793   -0.30056\n",
      " -0.50103   -0.031383  -0.032185   0.018318  -0.090429  -0.14427\n",
      " -0.14306   -0.057477  -0.020931   0.56276   -0.018557   0.15168\n",
      " -0.25586   -0.081564   0.2803    -0.10585   -0.16777    0.21814\n",
      " -0.11845    0.56475   -0.12645   -0.062461  -0.68043    0.10507\n",
      "  0.24793   -0.20249   -0.30726    0.42815    0.38378   -0.19371\n",
      " -0.075951  -0.058287  -0.067195   0.2192     0.56116   -0.28156\n",
      " -0.13705    0.45754   -0.14671   -0.18562   -0.074146   0.60737\n",
      "  0.07952    0.41023    0.18377   -0.08532    0.43795   -0.34727\n",
      "  0.2077     0.50454    0.40244    0.1095    -0.48078   -0.22372\n",
      " -0.54619   -0.20782    0.13751   -0.16206   -0.24835    0.17124\n",
      "  0.037355   0.14547   -0.056205   0.2644    -0.38029    0.0029947\n",
      "  0.051608   0.21807   -0.071087   0.31543    0.24593    0.34444\n",
      " -0.36354   -0.12137   -0.013511   0.049564   0.031386   0.10316\n",
      " -0.44301    0.11663   -0.055576  -0.091434  -0.070799  -0.017031\n",
      "  0.046024   0.096063   0.10148   -0.33467   -0.043516   0.38271\n",
      "  0.018411   0.0049479  0.35587    0.40432    0.4823     0.12416\n",
      " -0.051926  -0.081769  -0.21542    0.71766   -0.0052553 -0.55428\n",
      "  0.68033    0.20255   -0.19927   -0.11563    0.0030103 -0.74399\n",
      " -0.21086    0.069584  -0.20315   -0.17027   -0.11292   -0.044594\n",
      " -0.2145     0.26097    0.36969   -0.65155    0.048649   0.044304\n",
      " -0.26604    0.23976   -0.38281   -0.02353   -0.020519  -0.52202\n",
      " -0.30595    0.088525   0.28395    0.15056    0.23202    0.30538\n",
      " -0.53674    0.21362    0.10999    0.4685    -0.60017   -0.13141\n",
      "  0.18707    0.11636    0.24703    0.17168    0.40658   -0.19039\n",
      "  0.033278  -0.26374    0.28722    0.27659    0.30153   -0.12622\n",
      "  0.5225     0.13887   -0.15012   -0.0038264 -0.074287   0.46348\n",
      "  0.26215   -0.62671    0.21841   -0.26531   -0.75294   -0.36826\n",
      "  0.072989  -0.071807   0.10612   -0.087064  -0.053871   0.22379\n",
      "  0.38538    0.053972   0.21208    0.39662   -0.38609   -0.53\n",
      " -0.34169    0.067624   0.11835    0.60372    0.21744   -0.12806\n",
      "  0.13802    0.22463   -0.21566   -0.25167   -0.44859   -0.39111\n",
      " -0.5259     0.21266    1.9729     0.13851    0.32966    0.047626\n",
      " -0.37787   -0.31769   -0.1283     0.34396   -0.11061   -0.23346\n",
      " -0.45134    0.1605    -0.32801    0.033373   0.42571    0.42283\n",
      " -0.16932    0.14068    0.14087    0.20856   -0.24912    0.38337\n",
      "  0.43722   -0.090575   0.021208  -0.22334   -0.42596   -0.47252\n",
      " -0.1995     0.32459    0.39765   -0.091573  -0.073528  -0.20074\n",
      "  0.22083    0.011314   0.11977   -0.14888   -0.27152    0.28908\n",
      "  0.20407    0.098377  -0.1424    -0.059699   0.032529  -0.1877\n",
      "  0.24643   -0.1128     0.14666    0.076001   0.31109   -0.22119\n",
      "  0.033051   0.066731   1.5449    -0.11096    0.26438    0.1791\n",
      "  0.039628  -0.46497    0.40052   -0.057004   0.11391    0.42397\n",
      " -0.57411    0.17205    0.44401   -0.030134  -0.22061    0.47222\n",
      " -0.12734   -0.12288    0.33832    0.41698    0.18355    0.093473\n",
      " -1.9373     0.053236  -0.10361    0.056681  -0.12726   -0.11681\n",
      "  0.55039    0.33644    0.27706    0.71184   -0.1304     0.26108\n",
      " -0.2481     0.0032735 -0.16505    0.11827   -0.26322   -0.10169\n",
      "  0.24275    0.16927   -0.15809    0.27613   -0.2832     0.50554  ]\n",
      "[2.49993621e-06 2.49993621e-06 2.49993621e-06 ... 2.49993621e-06\n",
      " 2.49993621e-06 2.49993621e-06]\n",
      "1.0000000000000004\n"
     ]
    }
   ],
   "source": [
    "xw = glove_model['man']\n",
    "print(xw)\n",
    "lr = nidxv(xw,glove_model)\n",
    "print(lr)\n",
    "print(lr.sum(0))"
   ]
  },
  {
   "cell_type": "code",
   "execution_count": 8,
   "metadata": {},
   "outputs": [
    {
     "data": {
      "text/plain": [
       "array([1., 1.])"
      ]
     },
     "execution_count": 8,
     "metadata": {},
     "output_type": "execute_result"
    }
   ],
   "source": [
    "t = np.zeros((2, 300))\n",
    "t[0] = glove_model['man']\n",
    "t[1] = glove_model['woman']\n",
    "sim_vec(t).sum(1)"
   ]
  },
  {
   "cell_type": "code",
   "execution_count": 9,
   "metadata": {},
   "outputs": [],
   "source": [
    "ts = 40001\n",
    "j = 0\n",
    "test = np.empty(ts,dtype=object)\n",
    "for w in list(glove_model.vocab.keys())[:ts]:\n",
    "    test[j] = glove_model[w]\n",
    "    j = j + 1"
   ]
  },
  {
   "cell_type": "code",
   "execution_count": 10,
   "metadata": {},
   "outputs": [
    {
     "data": {
      "text/html": [
       "<div>\n",
       "<style scoped>\n",
       "    .dataframe tbody tr th:only-of-type {\n",
       "        vertical-align: middle;\n",
       "    }\n",
       "\n",
       "    .dataframe tbody tr th {\n",
       "        vertical-align: top;\n",
       "    }\n",
       "\n",
       "    .dataframe thead th {\n",
       "        text-align: right;\n",
       "    }\n",
       "</style>\n",
       "<table border=\"1\" class=\"dataframe\">\n",
       "  <thead>\n",
       "    <tr style=\"text-align: right;\">\n",
       "      <th></th>\n",
       "      <th>f0</th>\n",
       "      <th>f1</th>\n",
       "      <th>f2</th>\n",
       "      <th>f3</th>\n",
       "      <th>f4</th>\n",
       "      <th>f5</th>\n",
       "      <th>f6</th>\n",
       "      <th>f7</th>\n",
       "      <th>f8</th>\n",
       "      <th>f9</th>\n",
       "      <th>...</th>\n",
       "      <th>f290</th>\n",
       "      <th>f291</th>\n",
       "      <th>f292</th>\n",
       "      <th>f293</th>\n",
       "      <th>f294</th>\n",
       "      <th>f295</th>\n",
       "      <th>f296</th>\n",
       "      <th>f297</th>\n",
       "      <th>f298</th>\n",
       "      <th>f299</th>\n",
       "    </tr>\n",
       "  </thead>\n",
       "  <tbody>\n",
       "    <tr>\n",
       "      <td>Row 0</td>\n",
       "      <td>0.046560</td>\n",
       "      <td>0.213180</td>\n",
       "      <td>-0.007436</td>\n",
       "      <td>-0.458540</td>\n",
       "      <td>-0.035639</td>\n",
       "      <td>0.236430</td>\n",
       "      <td>-0.288360</td>\n",
       "      <td>0.215210</td>\n",
       "      <td>-0.134860</td>\n",
       "      <td>-1.6413</td>\n",
       "      <td>...</td>\n",
       "      <td>-0.013064</td>\n",
       "      <td>-0.296860</td>\n",
       "      <td>-0.079913</td>\n",
       "      <td>0.195000</td>\n",
       "      <td>0.031549</td>\n",
       "      <td>0.285060</td>\n",
       "      <td>-0.087461</td>\n",
       "      <td>0.009061</td>\n",
       "      <td>-0.209890</td>\n",
       "      <td>0.053913</td>\n",
       "    </tr>\n",
       "    <tr>\n",
       "      <td>Row 1</td>\n",
       "      <td>-0.255390</td>\n",
       "      <td>-0.257230</td>\n",
       "      <td>0.131690</td>\n",
       "      <td>-0.042688</td>\n",
       "      <td>0.218170</td>\n",
       "      <td>-0.022702</td>\n",
       "      <td>-0.178540</td>\n",
       "      <td>0.107560</td>\n",
       "      <td>0.058936</td>\n",
       "      <td>-1.3854</td>\n",
       "      <td>...</td>\n",
       "      <td>0.075968</td>\n",
       "      <td>-0.014359</td>\n",
       "      <td>-0.073794</td>\n",
       "      <td>0.221760</td>\n",
       "      <td>0.146520</td>\n",
       "      <td>0.566860</td>\n",
       "      <td>0.053307</td>\n",
       "      <td>-0.232900</td>\n",
       "      <td>-0.122260</td>\n",
       "      <td>0.354990</td>\n",
       "    </tr>\n",
       "    <tr>\n",
       "      <td>Row 2</td>\n",
       "      <td>-0.125590</td>\n",
       "      <td>0.013630</td>\n",
       "      <td>0.103060</td>\n",
       "      <td>-0.101230</td>\n",
       "      <td>0.098128</td>\n",
       "      <td>0.136270</td>\n",
       "      <td>-0.107210</td>\n",
       "      <td>0.236970</td>\n",
       "      <td>0.328700</td>\n",
       "      <td>-1.6785</td>\n",
       "      <td>...</td>\n",
       "      <td>0.060148</td>\n",
       "      <td>-0.156190</td>\n",
       "      <td>-0.119490</td>\n",
       "      <td>0.234450</td>\n",
       "      <td>0.081367</td>\n",
       "      <td>0.246180</td>\n",
       "      <td>-0.152420</td>\n",
       "      <td>-0.342240</td>\n",
       "      <td>-0.022394</td>\n",
       "      <td>0.136840</td>\n",
       "    </tr>\n",
       "    <tr>\n",
       "      <td>Row 3</td>\n",
       "      <td>-0.076947</td>\n",
       "      <td>-0.021211</td>\n",
       "      <td>0.212710</td>\n",
       "      <td>-0.722320</td>\n",
       "      <td>-0.139880</td>\n",
       "      <td>-0.122340</td>\n",
       "      <td>-0.175210</td>\n",
       "      <td>0.121370</td>\n",
       "      <td>-0.070866</td>\n",
       "      <td>-1.5721</td>\n",
       "      <td>...</td>\n",
       "      <td>-0.366730</td>\n",
       "      <td>-0.386030</td>\n",
       "      <td>0.302900</td>\n",
       "      <td>0.015747</td>\n",
       "      <td>0.340360</td>\n",
       "      <td>0.478410</td>\n",
       "      <td>0.068617</td>\n",
       "      <td>0.183510</td>\n",
       "      <td>-0.291830</td>\n",
       "      <td>-0.046533</td>\n",
       "    </tr>\n",
       "    <tr>\n",
       "      <td>Row 4</td>\n",
       "      <td>-0.257560</td>\n",
       "      <td>-0.057132</td>\n",
       "      <td>-0.671900</td>\n",
       "      <td>-0.380820</td>\n",
       "      <td>-0.364210</td>\n",
       "      <td>-0.082155</td>\n",
       "      <td>-0.010955</td>\n",
       "      <td>-0.082047</td>\n",
       "      <td>0.460560</td>\n",
       "      <td>-1.8477</td>\n",
       "      <td>...</td>\n",
       "      <td>-0.012806</td>\n",
       "      <td>-0.597070</td>\n",
       "      <td>0.317340</td>\n",
       "      <td>-0.252670</td>\n",
       "      <td>0.543840</td>\n",
       "      <td>0.063007</td>\n",
       "      <td>-0.049795</td>\n",
       "      <td>-0.160430</td>\n",
       "      <td>0.046744</td>\n",
       "      <td>-0.070621</td>\n",
       "    </tr>\n",
       "  </tbody>\n",
       "</table>\n",
       "<p>5 rows × 300 columns</p>\n",
       "</div>"
      ],
      "text/plain": [
       "             f0        f1        f2        f3        f4        f5        f6  \\\n",
       "Row 0  0.046560  0.213180 -0.007436 -0.458540 -0.035639  0.236430 -0.288360   \n",
       "Row 1 -0.255390 -0.257230  0.131690 -0.042688  0.218170 -0.022702 -0.178540   \n",
       "Row 2 -0.125590  0.013630  0.103060 -0.101230  0.098128  0.136270 -0.107210   \n",
       "Row 3 -0.076947 -0.021211  0.212710 -0.722320 -0.139880 -0.122340 -0.175210   \n",
       "Row 4 -0.257560 -0.057132 -0.671900 -0.380820 -0.364210 -0.082155 -0.010955   \n",
       "\n",
       "             f7        f8      f9  ...      f290      f291      f292  \\\n",
       "Row 0  0.215210 -0.134860 -1.6413  ... -0.013064 -0.296860 -0.079913   \n",
       "Row 1  0.107560  0.058936 -1.3854  ...  0.075968 -0.014359 -0.073794   \n",
       "Row 2  0.236970  0.328700 -1.6785  ...  0.060148 -0.156190 -0.119490   \n",
       "Row 3  0.121370 -0.070866 -1.5721  ... -0.366730 -0.386030  0.302900   \n",
       "Row 4 -0.082047  0.460560 -1.8477  ... -0.012806 -0.597070  0.317340   \n",
       "\n",
       "           f293      f294      f295      f296      f297      f298      f299  \n",
       "Row 0  0.195000  0.031549  0.285060 -0.087461  0.009061 -0.209890  0.053913  \n",
       "Row 1  0.221760  0.146520  0.566860  0.053307 -0.232900 -0.122260  0.354990  \n",
       "Row 2  0.234450  0.081367  0.246180 -0.152420 -0.342240 -0.022394  0.136840  \n",
       "Row 3  0.015747  0.340360  0.478410  0.068617  0.183510 -0.291830 -0.046533  \n",
       "Row 4 -0.252670  0.543840  0.063007 -0.049795 -0.160430  0.046744 -0.070621  \n",
       "\n",
       "[5 rows x 300 columns]"
      ]
     },
     "execution_count": 10,
     "metadata": {},
     "output_type": "execute_result"
    }
   ],
   "source": [
    "features = np.stack(test[:])\n",
    "df_features = pandas.DataFrame(features[0:,0:], \n",
    "                      index=['Row '+str(i) for i in range(features.shape[0])], \n",
    "                      columns=['f'+str(i) for i in range(features.shape[1])]\n",
    "                     )\n",
    "df_features.head()\n",
    "\n"
   ]
  },
  {
   "cell_type": "code",
   "execution_count": null,
   "metadata": {},
   "outputs": [],
   "source": []
  },
  {
   "cell_type": "code",
   "execution_count": 11,
   "metadata": {},
   "outputs": [],
   "source": [
    "bckgr = shap.sample(df_features, 100)\n",
    "explainer = shap.SamplingExplainer(sim_vec, bckgr)"
   ]
  },
  {
   "cell_type": "code",
   "execution_count": 12,
   "metadata": {},
   "outputs": [],
   "source": [
    "x_test = df_features[:100]"
   ]
  },
  {
   "cell_type": "code",
   "execution_count": 13,
   "metadata": {
    "scrolled": true
   },
   "outputs": [
    {
     "data": {
      "application/vnd.jupyter.widget-view+json": {
       "model_id": "f18af11a3f1d473a8148d034c6bec793",
       "version_major": 2,
       "version_minor": 0
      },
      "text/plain": [
       "HBox(children=(IntProgress(value=0), HTML(value='')))"
      ]
     },
     "metadata": {},
     "output_type": "display_data"
    },
    {
     "ename": "KeyboardInterrupt",
     "evalue": "",
     "output_type": "error",
     "traceback": [
      "\u001B[0;31m---------------------------------------------------------------------------\u001B[0m",
      "\u001B[0;31mKeyboardInterrupt\u001B[0m                         Traceback (most recent call last)",
      "\u001B[0;32m<ipython-input-13-7cfebf75f166>\u001B[0m in \u001B[0;36m<module>\u001B[0;34m\u001B[0m\n\u001B[0;32m----> 1\u001B[0;31m \u001B[0mshap_values\u001B[0m \u001B[0;34m=\u001B[0m \u001B[0mexplainer\u001B[0m\u001B[0;34m.\u001B[0m\u001B[0mshap_values\u001B[0m\u001B[0;34m(\u001B[0m\u001B[0mx_test\u001B[0m\u001B[0;34m,\u001B[0m \u001B[0mn_samples\u001B[0m\u001B[0;34m=\u001B[0m\u001B[0;36m5\u001B[0m\u001B[0;34m)\u001B[0m\u001B[0;34m\u001B[0m\u001B[0;34m\u001B[0m\u001B[0m\n\u001B[0m",
      "\u001B[0;32m/anaconda3/lib/python3.7/site-packages/shap/explainers/kernel.py\u001B[0m in \u001B[0;36mshap_values\u001B[0;34m(self, X, **kwargs)\u001B[0m\n\u001B[1;32m    209\u001B[0m                 \u001B[0;32mif\u001B[0m \u001B[0mself\u001B[0m\u001B[0;34m.\u001B[0m\u001B[0mkeep_index\u001B[0m\u001B[0;34m:\u001B[0m\u001B[0;34m\u001B[0m\u001B[0;34m\u001B[0m\u001B[0m\n\u001B[1;32m    210\u001B[0m                     \u001B[0mdata\u001B[0m \u001B[0;34m=\u001B[0m \u001B[0mconvert_to_instance_with_index\u001B[0m\u001B[0;34m(\u001B[0m\u001B[0mdata\u001B[0m\u001B[0;34m,\u001B[0m \u001B[0mcolumn_name\u001B[0m\u001B[0;34m,\u001B[0m \u001B[0mindex_value\u001B[0m\u001B[0;34m[\u001B[0m\u001B[0mi\u001B[0m\u001B[0;34m:\u001B[0m\u001B[0mi\u001B[0m \u001B[0;34m+\u001B[0m \u001B[0;36m1\u001B[0m\u001B[0;34m]\u001B[0m\u001B[0;34m,\u001B[0m \u001B[0mindex_name\u001B[0m\u001B[0;34m)\u001B[0m\u001B[0;34m\u001B[0m\u001B[0;34m\u001B[0m\u001B[0m\n\u001B[0;32m--> 211\u001B[0;31m                 \u001B[0mexplanations\u001B[0m\u001B[0;34m.\u001B[0m\u001B[0mappend\u001B[0m\u001B[0;34m(\u001B[0m\u001B[0mself\u001B[0m\u001B[0;34m.\u001B[0m\u001B[0mexplain\u001B[0m\u001B[0;34m(\u001B[0m\u001B[0mdata\u001B[0m\u001B[0;34m,\u001B[0m \u001B[0;34m**\u001B[0m\u001B[0mkwargs\u001B[0m\u001B[0;34m)\u001B[0m\u001B[0;34m)\u001B[0m\u001B[0;34m\u001B[0m\u001B[0;34m\u001B[0m\u001B[0m\n\u001B[0m\u001B[1;32m    212\u001B[0m \u001B[0;34m\u001B[0m\u001B[0m\n\u001B[1;32m    213\u001B[0m             \u001B[0;31m# vector-output\u001B[0m\u001B[0;34m\u001B[0m\u001B[0;34m\u001B[0m\u001B[0;34m\u001B[0m\u001B[0m\n",
      "\u001B[0;32m/anaconda3/lib/python3.7/site-packages/shap/explainers/sampling.py\u001B[0m in \u001B[0;36mexplain\u001B[0;34m(self, incoming_instance, **kwargs)\u001B[0m\n\u001B[1;32m    108\u001B[0m             \u001B[0mself\u001B[0m\u001B[0;34m.\u001B[0m\u001B[0mX_masked\u001B[0m \u001B[0;34m=\u001B[0m \u001B[0mnp\u001B[0m\u001B[0;34m.\u001B[0m\u001B[0mzeros\u001B[0m\u001B[0;34m(\u001B[0m\u001B[0;34m(\u001B[0m\u001B[0mnsamples_each1\u001B[0m\u001B[0;34m.\u001B[0m\u001B[0mmax\u001B[0m\u001B[0;34m(\u001B[0m\u001B[0;34m)\u001B[0m\u001B[0;34m,\u001B[0m \u001B[0mself\u001B[0m\u001B[0;34m.\u001B[0m\u001B[0mdata\u001B[0m\u001B[0;34m.\u001B[0m\u001B[0mdata\u001B[0m\u001B[0;34m.\u001B[0m\u001B[0mshape\u001B[0m\u001B[0;34m[\u001B[0m\u001B[0;36m1\u001B[0m\u001B[0;34m]\u001B[0m\u001B[0;34m)\u001B[0m\u001B[0;34m)\u001B[0m\u001B[0;34m\u001B[0m\u001B[0;34m\u001B[0m\u001B[0m\n\u001B[1;32m    109\u001B[0m             \u001B[0;32mfor\u001B[0m \u001B[0mi\u001B[0m\u001B[0;34m,\u001B[0m\u001B[0mind\u001B[0m \u001B[0;32min\u001B[0m \u001B[0menumerate\u001B[0m\u001B[0;34m(\u001B[0m\u001B[0mself\u001B[0m\u001B[0;34m.\u001B[0m\u001B[0mvaryingInds\u001B[0m\u001B[0;34m)\u001B[0m\u001B[0;34m:\u001B[0m\u001B[0;34m\u001B[0m\u001B[0;34m\u001B[0m\u001B[0m\n\u001B[0;32m--> 110\u001B[0;31m                 \u001B[0mphi\u001B[0m\u001B[0;34m[\u001B[0m\u001B[0mind\u001B[0m\u001B[0;34m,\u001B[0m\u001B[0;34m:\u001B[0m\u001B[0;34m]\u001B[0m\u001B[0;34m,\u001B[0m\u001B[0mphi_var\u001B[0m\u001B[0;34m[\u001B[0m\u001B[0mind\u001B[0m\u001B[0;34m,\u001B[0m\u001B[0;34m:\u001B[0m\u001B[0;34m]\u001B[0m \u001B[0;34m=\u001B[0m \u001B[0mself\u001B[0m\u001B[0;34m.\u001B[0m\u001B[0msampling_estimate\u001B[0m\u001B[0;34m(\u001B[0m\u001B[0mind\u001B[0m\u001B[0;34m,\u001B[0m \u001B[0mself\u001B[0m\u001B[0;34m.\u001B[0m\u001B[0mmodel\u001B[0m\u001B[0;34m.\u001B[0m\u001B[0mf\u001B[0m\u001B[0;34m,\u001B[0m \u001B[0minstance\u001B[0m\u001B[0;34m.\u001B[0m\u001B[0mx\u001B[0m\u001B[0;34m,\u001B[0m \u001B[0mself\u001B[0m\u001B[0;34m.\u001B[0m\u001B[0mdata\u001B[0m\u001B[0;34m.\u001B[0m\u001B[0mdata\u001B[0m\u001B[0;34m,\u001B[0m \u001B[0mnsamples\u001B[0m\u001B[0;34m=\u001B[0m\u001B[0mnsamples_each1\u001B[0m\u001B[0;34m[\u001B[0m\u001B[0mi\u001B[0m\u001B[0;34m]\u001B[0m\u001B[0;34m)\u001B[0m\u001B[0;34m\u001B[0m\u001B[0;34m\u001B[0m\u001B[0m\n\u001B[0m\u001B[1;32m    111\u001B[0m \u001B[0;34m\u001B[0m\u001B[0m\n\u001B[1;32m    112\u001B[0m             \u001B[0;31m# optimally allocate samples according to the variance\u001B[0m\u001B[0;34m\u001B[0m\u001B[0;34m\u001B[0m\u001B[0;34m\u001B[0m\u001B[0m\n",
      "\u001B[0;32m/anaconda3/lib/python3.7/site-packages/shap/explainers/sampling.py\u001B[0m in \u001B[0;36msampling_estimate\u001B[0;34m(self, j, f, x, X, nsamples)\u001B[0m\n\u001B[1;32m    170\u001B[0m             \u001B[0mX_masked\u001B[0m\u001B[0;34m[\u001B[0m\u001B[0;34m-\u001B[0m\u001B[0;34m(\u001B[0m\u001B[0mi\u001B[0m\u001B[0;34m+\u001B[0m\u001B[0;36m1\u001B[0m\u001B[0;34m)\u001B[0m\u001B[0;34m,\u001B[0m \u001B[0minds\u001B[0m\u001B[0;34m[\u001B[0m\u001B[0mpos\u001B[0m\u001B[0;34m:\u001B[0m\u001B[0;34m]\u001B[0m\u001B[0;34m]\u001B[0m \u001B[0;34m=\u001B[0m \u001B[0mX\u001B[0m\u001B[0;34m[\u001B[0m\u001B[0mrind\u001B[0m\u001B[0;34m,\u001B[0m \u001B[0minds\u001B[0m\u001B[0;34m[\u001B[0m\u001B[0mpos\u001B[0m\u001B[0;34m:\u001B[0m\u001B[0;34m]\u001B[0m\u001B[0;34m]\u001B[0m\u001B[0;34m\u001B[0m\u001B[0;34m\u001B[0m\u001B[0m\n\u001B[1;32m    171\u001B[0m \u001B[0;34m\u001B[0m\u001B[0m\n\u001B[0;32m--> 172\u001B[0;31m         \u001B[0mevals\u001B[0m \u001B[0;34m=\u001B[0m \u001B[0mf\u001B[0m\u001B[0;34m(\u001B[0m\u001B[0mX_masked\u001B[0m\u001B[0;34m)\u001B[0m\u001B[0;34m\u001B[0m\u001B[0;34m\u001B[0m\u001B[0m\n\u001B[0m\u001B[1;32m    173\u001B[0m         \u001B[0mevals_on\u001B[0m \u001B[0;34m=\u001B[0m \u001B[0mevals\u001B[0m\u001B[0;34m[\u001B[0m\u001B[0;34m:\u001B[0m\u001B[0mnsamples\u001B[0m\u001B[0;34m//\u001B[0m\u001B[0;36m2\u001B[0m\u001B[0;34m]\u001B[0m\u001B[0;34m\u001B[0m\u001B[0;34m\u001B[0m\u001B[0m\n\u001B[1;32m    174\u001B[0m         \u001B[0mevals_off\u001B[0m \u001B[0;34m=\u001B[0m \u001B[0mevals\u001B[0m\u001B[0;34m[\u001B[0m\u001B[0mnsamples\u001B[0m\u001B[0;34m//\u001B[0m\u001B[0;36m2\u001B[0m\u001B[0;34m:\u001B[0m\u001B[0;34m]\u001B[0m\u001B[0;34m[\u001B[0m\u001B[0;34m:\u001B[0m\u001B[0;34m:\u001B[0m\u001B[0;34m-\u001B[0m\u001B[0;36m1\u001B[0m\u001B[0;34m]\u001B[0m\u001B[0;34m\u001B[0m\u001B[0;34m\u001B[0m\u001B[0m\n",
      "\u001B[0;32m<ipython-input-6-1ceb9b689b19>\u001B[0m in \u001B[0;36msim_vec\u001B[0;34m(vecs)\u001B[0m\n\u001B[1;32m      3\u001B[0m     \u001B[0mi\u001B[0m \u001B[0;34m=\u001B[0m \u001B[0;36m0\u001B[0m\u001B[0;34m\u001B[0m\u001B[0;34m\u001B[0m\u001B[0m\n\u001B[1;32m      4\u001B[0m     \u001B[0;32mfor\u001B[0m \u001B[0mv\u001B[0m \u001B[0;32min\u001B[0m \u001B[0mvecs\u001B[0m\u001B[0;34m:\u001B[0m\u001B[0;34m\u001B[0m\u001B[0;34m\u001B[0m\u001B[0m\n\u001B[0;32m----> 5\u001B[0;31m         \u001B[0mres\u001B[0m\u001B[0;34m[\u001B[0m\u001B[0mi\u001B[0m\u001B[0;34m]\u001B[0m \u001B[0;34m=\u001B[0m \u001B[0mnidxv\u001B[0m\u001B[0;34m(\u001B[0m\u001B[0mv\u001B[0m\u001B[0;34m,\u001B[0m \u001B[0mglove_model\u001B[0m\u001B[0;34m)\u001B[0m\u001B[0;34m\u001B[0m\u001B[0;34m\u001B[0m\u001B[0m\n\u001B[0m\u001B[1;32m      6\u001B[0m         \u001B[0mi\u001B[0m \u001B[0;34m=\u001B[0m \u001B[0mi\u001B[0m\u001B[0;34m+\u001B[0m\u001B[0;36m1\u001B[0m\u001B[0;34m\u001B[0m\u001B[0;34m\u001B[0m\u001B[0m\n\u001B[1;32m      7\u001B[0m     \u001B[0;32mreturn\u001B[0m \u001B[0mres\u001B[0m\u001B[0;34m\u001B[0m\u001B[0;34m\u001B[0m\u001B[0m\n",
      "\u001B[0;32m<ipython-input-3-ebf362aae5c0>\u001B[0m in \u001B[0;36mnidxv\u001B[0;34m(v, model)\u001B[0m\n\u001B[1;32m      1\u001B[0m \u001B[0;32mdef\u001B[0m \u001B[0mnidxv\u001B[0m\u001B[0;34m(\u001B[0m\u001B[0mv\u001B[0m\u001B[0;34m,\u001B[0m \u001B[0mmodel\u001B[0m\u001B[0;34m)\u001B[0m\u001B[0;34m:\u001B[0m\u001B[0;34m\u001B[0m\u001B[0;34m\u001B[0m\u001B[0m\n\u001B[0;32m----> 2\u001B[0;31m     \u001B[0mres\u001B[0m \u001B[0;34m=\u001B[0m \u001B[0mmodel\u001B[0m\u001B[0;34m.\u001B[0m\u001B[0msimilar_by_vector\u001B[0m\u001B[0;34m(\u001B[0m\u001B[0mv\u001B[0m\u001B[0;34m)\u001B[0m\u001B[0;34m\u001B[0m\u001B[0;34m\u001B[0m\u001B[0m\n\u001B[0m\u001B[1;32m      3\u001B[0m     \u001B[0mridxs\u001B[0m \u001B[0;34m=\u001B[0m \u001B[0mnp\u001B[0m\u001B[0;34m.\u001B[0m\u001B[0mzeros\u001B[0m\u001B[0;34m(\u001B[0m\u001B[0mmodel\u001B[0m\u001B[0;34m.\u001B[0m\u001B[0mvectors\u001B[0m\u001B[0;34m.\u001B[0m\u001B[0mshape\u001B[0m\u001B[0;34m[\u001B[0m\u001B[0;36m0\u001B[0m\u001B[0;34m]\u001B[0m\u001B[0;34m,\u001B[0m \u001B[0mdtype\u001B[0m\u001B[0;34m=\u001B[0m\u001B[0;34m'float64'\u001B[0m\u001B[0;34m)\u001B[0m\u001B[0;34m\u001B[0m\u001B[0;34m\u001B[0m\u001B[0m\n\u001B[1;32m      4\u001B[0m     \u001B[0mi\u001B[0m \u001B[0;34m=\u001B[0m \u001B[0;36m0\u001B[0m\u001B[0;34m\u001B[0m\u001B[0;34m\u001B[0m\u001B[0m\n\u001B[1;32m      5\u001B[0m     \u001B[0;32mfor\u001B[0m \u001B[0mr\u001B[0m \u001B[0;32min\u001B[0m \u001B[0mres\u001B[0m\u001B[0;34m:\u001B[0m\u001B[0;34m\u001B[0m\u001B[0;34m\u001B[0m\u001B[0m\n",
      "\u001B[0;32m/anaconda3/lib/python3.7/site-packages/gensim/models/keyedvectors.py\u001B[0m in \u001B[0;36msimilar_by_vector\u001B[0;34m(self, vector, topn, restrict_vocab)\u001B[0m\n\u001B[1;32m    619\u001B[0m \u001B[0;34m\u001B[0m\u001B[0m\n\u001B[1;32m    620\u001B[0m         \"\"\"\n\u001B[0;32m--> 621\u001B[0;31m         \u001B[0;32mreturn\u001B[0m \u001B[0mself\u001B[0m\u001B[0;34m.\u001B[0m\u001B[0mmost_similar\u001B[0m\u001B[0;34m(\u001B[0m\u001B[0mpositive\u001B[0m\u001B[0;34m=\u001B[0m\u001B[0;34m[\u001B[0m\u001B[0mvector\u001B[0m\u001B[0;34m]\u001B[0m\u001B[0;34m,\u001B[0m \u001B[0mtopn\u001B[0m\u001B[0;34m=\u001B[0m\u001B[0mtopn\u001B[0m\u001B[0;34m,\u001B[0m \u001B[0mrestrict_vocab\u001B[0m\u001B[0;34m=\u001B[0m\u001B[0mrestrict_vocab\u001B[0m\u001B[0;34m)\u001B[0m\u001B[0;34m\u001B[0m\u001B[0;34m\u001B[0m\u001B[0m\n\u001B[0m\u001B[1;32m    622\u001B[0m \u001B[0;34m\u001B[0m\u001B[0m\n\u001B[1;32m    623\u001B[0m     @deprecated(\n",
      "\u001B[0;32m/anaconda3/lib/python3.7/site-packages/gensim/models/keyedvectors.py\u001B[0m in \u001B[0;36mmost_similar\u001B[0;34m(self, positive, negative, topn, restrict_vocab, indexer)\u001B[0m\n\u001B[1;32m    561\u001B[0m \u001B[0;34m\u001B[0m\u001B[0m\n\u001B[1;32m    562\u001B[0m         \u001B[0mlimited\u001B[0m \u001B[0;34m=\u001B[0m \u001B[0mself\u001B[0m\u001B[0;34m.\u001B[0m\u001B[0mvectors_norm\u001B[0m \u001B[0;32mif\u001B[0m \u001B[0mrestrict_vocab\u001B[0m \u001B[0;32mis\u001B[0m \u001B[0;32mNone\u001B[0m \u001B[0;32melse\u001B[0m \u001B[0mself\u001B[0m\u001B[0;34m.\u001B[0m\u001B[0mvectors_norm\u001B[0m\u001B[0;34m[\u001B[0m\u001B[0;34m:\u001B[0m\u001B[0mrestrict_vocab\u001B[0m\u001B[0;34m]\u001B[0m\u001B[0;34m\u001B[0m\u001B[0;34m\u001B[0m\u001B[0m\n\u001B[0;32m--> 563\u001B[0;31m         \u001B[0mdists\u001B[0m \u001B[0;34m=\u001B[0m \u001B[0mdot\u001B[0m\u001B[0;34m(\u001B[0m\u001B[0mlimited\u001B[0m\u001B[0;34m,\u001B[0m \u001B[0mmean\u001B[0m\u001B[0;34m)\u001B[0m\u001B[0;34m\u001B[0m\u001B[0;34m\u001B[0m\u001B[0m\n\u001B[0m\u001B[1;32m    564\u001B[0m         \u001B[0;32mif\u001B[0m \u001B[0;32mnot\u001B[0m \u001B[0mtopn\u001B[0m\u001B[0;34m:\u001B[0m\u001B[0;34m\u001B[0m\u001B[0;34m\u001B[0m\u001B[0m\n\u001B[1;32m    565\u001B[0m             \u001B[0;32mreturn\u001B[0m \u001B[0mdists\u001B[0m\u001B[0;34m\u001B[0m\u001B[0;34m\u001B[0m\u001B[0m\n",
      "\u001B[0;32m<__array_function__ internals>\u001B[0m in \u001B[0;36mdot\u001B[0;34m(*args, **kwargs)\u001B[0m\n",
      "\u001B[0;31mKeyboardInterrupt\u001B[0m: "
     ]
    }
   ],
   "source": [
    "shap_values = explainer.shap_values(x_test, n_samples=5)\n"
   ]
  },
  {
   "cell_type": "code",
   "execution_count": 22,
   "metadata": {},
   "outputs": [
    {
     "data": {
      "image/png": "[encoded data removed]",
      "text/plain": [
       "<Figure size 576x684 with 1 Axes>"
      ]
     },
     "metadata": {
      "needs_background": "light"
     },
     "output_type": "display_data"
    }
   ],
   "source": [
    "shap.summary_plot(shap_values[0], bckgr, plot_type='bar')"
   ]
  },
  {
   "cell_type": "code",
   "execution_count": null,
   "metadata": {},
   "outputs": [],
   "source": [
    "mean_abs_feature_importance = np.zeros(x_test.shape[1])\n",
    "for c in shap_values:\n",
    "    mean_abs_feature_importance = mean_abs_feature_importance + (np.sum(np.abs(c), axis=0) / x_test.shape[0])"
   ]
  },
  {
   "cell_type": "code",
   "execution_count": null,
   "metadata": {},
   "outputs": [],
   "source": []
  },
  {
   "cell_type": "code",
   "execution_count": null,
   "metadata": {},
   "outputs": [],
   "source": [
    "ind = np.argpartition(mean_abs_feature_importance, -150)[-150:]\n",
    "retain = np.sort(ind)\n",
    "retain"
   ]
  },
  {
   "cell_type": "code",
   "execution_count": null,
   "metadata": {},
   "outputs": [],
   "source": [
    "newweights = np.copy(glove_model.vectors)\n",
    "newweights.shape"
   ]
  },
  {
   "cell_type": "code",
   "execution_count": null,
   "metadata": {},
   "outputs": [],
   "source": []
  },
  {
   "cell_type": "code",
   "execution_count": null,
   "metadata": {},
   "outputs": [],
   "source": [
    "newweights = newweights[:, retain]\n",
    "newweights.shape"
   ]
  },
  {
   "cell_type": "code",
   "execution_count": null,
   "metadata": {
    "pycharm": {
     "name": "#%%\n"
    }
   },
   "outputs": [],
   "source": [
    "glove_model.vectors = newweights\n",
    "print(glove_model.most_similar(positive=['man']))\n",
    "glove_model.save_word2vec_format('shap-reduced-samplesimilarity-300-150-vectors.txt', binary=False)"
   ]
  },
  {
   "cell_type": "code",
   "execution_count": null,
   "outputs": [],
   "source": [],
   "metadata": {
    "collapsed": false,
    "pycharm": {
     "name": "#%%"
    }
   }
  }
 ],
 "metadata": {
  "kernelspec": {
   "display_name": "Python 3",
   "language": "python",
   "name": "python3"
  },
  "language_info": {
   "codemirror_mode": {
    "name": "ipython",
    "version": 3
   },
   "file_extension": ".py",
   "mimetype": "text/x-python",
   "name": "python",
   "nbconvert_exporter": "python",
   "pygments_lexer": "ipython3",
   "version": "3.7.4"
  }
 },
 "nbformat": 4,
 "nbformat_minor": 2
}