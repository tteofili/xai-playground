{
 "cells": [
  {
   "cell_type": "code",
   "execution_count": 27,
   "metadata": {},
   "outputs": [],
   "source": [
    "#hide\n",
    "import numpy as np\n",
    "import pickle\n",
    "import gensim\n",
    "from gensim.test.utils import datapath, get_tmpfile\n",
    "from gensim.models import Word2Vec\n",
    "from gensim.scripts.glove2word2vec import glove2word2vec\n",
    "import shap\n",
    "import pandas\n",
    "import gensim.downloader as api\n"
   ]
  },
  {
   "cell_type": "code",
   "execution_count": 23,
   "metadata": {},
   "outputs": [],
   "source": [
    "glove_file = datapath('/path/to/glove.6B/glove.6B.50d.txt')\n",
    "tmp_file = get_tmpfile(\"test_word2vec.txt\")\n",
    "\n",
    "_ = glove2word2vec(glove_file, tmp_file)\n",
    "\n",
    "glove_model = gensim.models.KeyedVectors.load_word2vec_format(tmp_file)\n",
    "weights = np.copy(glove_model.vectors)"
   ]
  },
  {
   "cell_type": "code",
   "execution_count": 24,
   "metadata": {},
   "outputs": [],
   "source": [
    "from sklearn.decomposition import PCA\n",
    "pca = PCA(n_components=8)\n",
    "principalComponents = pca.fit_transform(weights)\n",
    "newweights = np.copy(principalComponents)"
   ]
  },
  {
   "cell_type": "code",
   "execution_count": 25,
   "metadata": {},
   "outputs": [
    {
     "name": "stdout",
     "output_type": "stream",
     "text": [
      "[('alleged', 0.9950505495071411), ('boy', 0.991426944732666), ('saying', 0.9912682175636292), ('talks', 0.9912102222442627), ('hepatitis', 0.9904537796974182), ('blessing', 0.9904302954673767), ('believe', 0.990262508392334), ('young', 0.9901555776596069), ('believed', 0.9900606870651245), ('quit', 0.989773690700531)]\n"
     ]
    }
   ],
   "source": [
    "glove_model.vectors = newweights\n",
    "print(glove_model.most_similar(positive=['man']))\n",
    "glove_model.save_word2vec_format('/path/to/glove-pca-8-vectors.txt', binary=False)"
   ]
  }
 ],
 "metadata": {
  "kernelspec": {
   "display_name": "Python 3",
   "language": "python",
   "name": "python3"
  },
  "language_info": {
   "codemirror_mode": {
    "name": "ipython",
    "version": 3
   },
   "file_extension": ".py",
   "mimetype": "text/x-python",
   "name": "python",
   "nbconvert_exporter": "python",
   "pygments_lexer": "ipython3",
   "version": "3.7.2"
  }
 },
 "nbformat": 4,
 "nbformat_minor": 2
}
