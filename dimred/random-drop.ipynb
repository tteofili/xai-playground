{
 "cells": [
  {
   "cell_type": "code",
   "execution_count": 56,
   "metadata": {},
   "outputs": [],
   "source": [
    "import numpy as np\n",
    "import pickle\n",
    "import gensim\n",
    "from gensim.test.utils import datapath, get_tmpfile\n",
    "from gensim.models import Word2Vec\n",
    "from gensim.scripts.glove2word2vec import glove2word2vec\n",
    "import shap\n",
    "import pandas"
   ]
  },
  {
   "cell_type": "code",
   "execution_count": 57,
   "metadata": {},
   "outputs": [],
   "source": [
    "glove_file = datapath('glove.6B.300d.txt')\n",
    "tmp_file = get_tmpfile(\"test_word2vec.txt\")\n",
    "\n",
    "_ = glove2word2vec(glove_file, tmp_file)\n",
    "\n",
    "glove_model = gensim.models.KeyedVectors.load_word2vec_format(tmp_file)\n"
   ]
  },
  {
   "cell_type": "code",
   "execution_count": 58,
   "metadata": {},
   "outputs": [],
   "source": [
    "newweights = np.copy(glove_model.vectors)"
   ]
  },
  {
   "cell_type": "code",
   "execution_count": 59,
   "metadata": {},
   "outputs": [
    {
     "name": "stdout",
     "output_type": "stream",
     "text": [
      "[ 25  81 210 165 284 212   2 109 231 274  42  42 194 189  50  61 227 104\n",
      " 259 285 160 270 203 277 197 127 121 197 250  56 107 225 103 118  63 189\n",
      " 219  50 144 252 152 246  18 100  83  29 256 111 186 216 150 238  85 192\n",
      "  68 184 141 160 205  53 231  10 187 117 298 148 223 245  92  52 122  37\n",
      "  79 156  95  27  59  28 152  67 176 225 297 213  56 254  15 149 264  17\n",
      " 128  86  13 193 243 232  54 178  39  76  79 152 115  73  43  10  40  38\n",
      " 101  23  67 264 274 211 119 152  10 138  62  82  99   9 103  60 232  64\n",
      "  64 251  93 116  34  82  79  50 242  24 238 110 248 281  60  79 287 241\n",
      "  34  91  39  25  27  90]\n"
     ]
    }
   ],
   "source": [
    "rs = np.random.randint(299, size=150)\n",
    "print(rs)"
   ]
  },
  {
   "cell_type": "code",
   "execution_count": 60,
   "metadata": {},
   "outputs": [],
   "source": [
    "newweights = newweights[:, rs]"
   ]
  },
  {
   "cell_type": "code",
   "execution_count": 61,
   "metadata": {},
   "outputs": [
    {
     "data": {
      "text/plain": [
       "(400001, 150)"
      ]
     },
     "execution_count": 61,
     "metadata": {},
     "output_type": "execute_result"
    }
   ],
   "source": [
    "newweights.shape"
   ]
  },
  {
   "cell_type": "code",
   "execution_count": 63,
   "metadata": {},
   "outputs": [
    {
     "name": "stdout",
     "output_type": "stream",
     "text": [
      "[('woman', 0.678255558013916), ('person', 0.6541748046875), ('boy', 0.6108531355857849), ('victim', 0.5936810374259949), ('he', 0.5905553102493286), ('another', 0.5902426242828369), ('himself', 0.5817959308624268), ('father', 0.5703006386756897), ('old', 0.5647799372673035), ('suspect', 0.5638733506202698)]\n"
     ]
    }
   ],
   "source": [
    "glove_model.vectors = newweights\n",
    "print(glove_model.most_similar(positive=['man']))\n",
    "glove_model.save_word2vec_format('random-drop-300-150-vectors.txt', binary=False)\n"
   ]
  },
  {
   "cell_type": "code",
   "execution_count": null,
   "metadata": {},
   "outputs": [],
   "source": []
  }
 ],
 "metadata": {
  "kernelspec": {
   "display_name": "Python 3",
   "language": "python",
   "name": "python3"
  },
  "language_info": {
   "codemirror_mode": {
    "name": "ipython",
    "version": 3
   },
   "file_extension": ".py",
   "mimetype": "text/x-python",
   "name": "python",
   "nbconvert_exporter": "python",
   "pygments_lexer": "ipython3",
   "version": "3.7.2"
  }
 },
 "nbformat": 4,
 "nbformat_minor": 2
}