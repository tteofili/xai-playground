{
 "cells": [
  {
   "cell_type": "code",
   "execution_count": null,
   "metadata": {},
   "outputs": [],
   "source": []
  },
  {
   "cell_type": "code",
   "execution_count": 1,
   "metadata": {},
   "outputs": [],
   "source": [
    "import numpy as np\n",
    "import pickle\n",
    "import gensim\n",
    "from gensim.test.utils import datapath, get_tmpfile\n",
    "from gensim.models import Word2Vec\n",
    "from gensim.scripts.glove2word2vec import glove2word2vec\n",
    "import shap\n",
    "import pandas\n",
    "from sklearn.metrics import pairwise_distances\n"
   ]
  },
  {
   "cell_type": "code",
   "execution_count": 2,
   "metadata": {},
   "outputs": [],
   "source": [
    "glove_file = datapath('glove.6B.300d.txt')\n",
    "tmp_file = get_tmpfile(\"test_word2vec.txt\")\n",
    "\n",
    "_ = glove2word2vec(glove_file, tmp_file)\n",
    "\n",
    "glove_model = gensim.models.KeyedVectors.load_word2vec_format(tmp_file)\n"
   ]
  },
  {
   "cell_type": "code",
   "execution_count": 3,
   "metadata": {},
   "outputs": [],
   "source": [
    "def nidxv(v, model):\n",
    "    return np.array(model[np.array(model.similar_by_vector(v, topn=2))[:,0]]).sum(0) - 2*v"
   ]
  },
  {
   "cell_type": "code",
   "execution_count": 4,
   "metadata": {},
   "outputs": [],
   "source": []
  },
  {
   "cell_type": "code",
   "execution_count": 11,
   "metadata": {},
   "outputs": [],
   "source": [
    "def sim_vec(vecs):\n",
    "    res = np.zeros(len(vecs))\n",
    "    i = 0\n",
    "    for v in vecs:\n",
    "        res[i] = abs(nidxv(v, glove_model).sum(axis = 0))\n",
    "        i = i+1\n",
    "    return res\n",
    "    "
   ]
  },
  {
   "cell_type": "code",
   "execution_count": 12,
   "metadata": {},
   "outputs": [
    {
     "name": "stdout",
     "output_type": "stream",
     "text": [
      "[-2.20369995e-01 -5.54001331e-03 -2.66800016e-01  9.61900055e-02\n",
      "  3.09948996e-02 -4.22100008e-01 -2.73175031e-01 -4.26419318e-01\n",
      " -8.15100074e-02 -1.25000477e-02 -1.55110002e-01  6.27000332e-02\n",
      "  5.03919244e-01  4.30499762e-03  1.79654986e-01 -6.95829988e-02\n",
      "  1.79450005e-01  2.09000111e-02 -2.65860021e-01 -3.34493011e-01\n",
      " -5.45569003e-01 -1.55920029e-01 -3.87559980e-02  3.44499946e-02\n",
      " -7.50899911e-02 -1.70865998e-01  5.42200208e-02 -1.25190005e-01\n",
      "  1.57855093e-01  2.45499909e-02 -4.56589967e-01 -2.63530016e-01\n",
      " -2.11340010e-01 -2.31538981e-01 -1.21590018e-01  3.41670036e-01\n",
      " -6.50889993e-01 -7.77000189e-03  4.14460003e-01  1.11220002e-01\n",
      "  2.55929947e-01 -1.21689975e-01 -6.58600032e-03  1.99730024e-02\n",
      "  8.37400556e-03 -1.06849998e-01 -5.18800020e-02  4.28120017e-01\n",
      " -5.28299809e-02 -2.16220021e-01  1.08267993e-01  2.57037997e-01\n",
      "  4.58856016e-01 -5.01530051e-01 -6.07380033e-01 -4.67804015e-01\n",
      " -4.60599959e-02 -4.00810003e-01  1.87580049e-01  1.64700150e-02\n",
      " -2.73239017e-01 -3.25440049e-01  2.25020051e-01 -2.22920030e-02\n",
      " -1.23440027e-01 -4.22230035e-01  3.07290018e-01  4.93199825e-02\n",
      " -2.16989994e-01  1.24211997e-01  4.33499813e-02 -6.16279960e-01\n",
      " -2.48624995e-01 -1.48136392e-01  4.81898040e-02  1.31669998e-01\n",
      "  4.49380994e-01 -3.46784711e-01 -1.91527992e-01 -1.34041011e-01\n",
      " -3.31362993e-01 -2.21003979e-01  4.31499779e-02  2.77159989e-01\n",
      " -4.96599674e-02 -1.59993768e-04 -3.93249005e-01 -1.07273996e-01\n",
      "  1.42764002e-01 -9.09100473e-03 -2.16540039e-01 -4.58169997e-01\n",
      " -2.37149969e-02  2.60104001e-01  3.87449026e-01 -5.58369942e-02\n",
      " -4.87834007e-01 -2.91612983e-01  6.79400116e-02  1.37670040e-01\n",
      "  2.18356013e-01 -2.62989998e-01 -5.45400009e-03 -3.27327907e-01\n",
      " -1.84999704e-02 -4.87899780e-02  3.46759975e-01 -4.99369979e-01\n",
      "  3.99696022e-01 -4.92810160e-02  1.68731987e-01  4.94840026e-01\n",
      "  3.06903012e-02  1.94069982e-01 -2.77400017e-02  4.34740007e-01\n",
      "  4.33839977e-01  3.14370006e-01  2.22879693e-01  7.27221012e-01\n",
      "  3.17570001e-01  7.98465967e-01  1.74620003e-01  1.58636004e-01\n",
      " -2.86190003e-01  1.68884009e-01  1.48137003e-01 -2.52946287e-01\n",
      "  4.85700369e-02  4.55199480e-02  2.14041024e-01 -8.67900252e-03\n",
      "  1.63789988e-01  2.03860015e-01 -6.70999289e-03 -3.07109989e-02\n",
      " -2.94900984e-01  4.45567966e-01 -2.47700214e-02  3.33254993e-01\n",
      "  8.46999884e-03 -1.83400214e-02 -3.80980015e-01  1.50899887e-02\n",
      "  6.32399321e-02 -3.22920024e-01  2.01640010e-01  2.98600197e-02\n",
      "  3.98740053e-01  4.91990000e-01  1.35350019e-01 -2.27840006e-01\n",
      "  3.94570023e-01  3.78699899e-02 -3.71396989e-01  3.57230008e-01\n",
      " -4.47548032e-01 -1.55200005e-01 -9.94499922e-02  1.17650032e-01\n",
      " -4.36899662e-02  3.14400017e-01  8.31700563e-02  1.64999962e-02\n",
      " -1.21090025e-01  5.78734018e-02 -1.09133005e-01 -1.65589988e-01\n",
      "  9.58999991e-02  2.25229979e-01 -2.38324001e-01  2.45567977e-01\n",
      "  1.86849952e-01  1.09479964e-01 -1.09063998e-01  8.11794996e-02\n",
      " -3.58960032e-01  2.53489912e-02 -2.10538998e-01  2.52180010e-01\n",
      " -2.97424018e-01 -1.97499990e-03  1.57999992e-03 -4.00065511e-01\n",
      "  5.59989989e-01  3.61469984e-01  1.19359970e-01 -1.68224007e-01\n",
      " -1.51046008e-01 -6.12268984e-01 -1.80907995e-01 -6.53299987e-02\n",
      " -4.23730016e-01 -5.17570019e-01 -3.20890009e-01  4.15540010e-01\n",
      "  7.99800158e-02 -1.33319974e-01 -3.16969991e-01  4.98100221e-02\n",
      " -1.46800041e-01 -1.09043002e-01 -1.38109982e-01  2.36433983e-01\n",
      "  2.76169986e-01  3.53002548e-03  4.39719856e-02  8.53800178e-02\n",
      "  4.39119995e-01  6.46200001e-01  3.71016979e-01 -9.68340039e-02\n",
      "  1.43599987e-01  9.99069959e-02  3.42900157e-02 -6.72670007e-01\n",
      "  2.95060009e-01 -6.31240010e-01 -2.13473007e-01  7.33499825e-02\n",
      " -8.26001167e-03  2.29199529e-02 -5.34099936e-02 -2.86275029e-01\n",
      " -1.84917986e-01  5.26880026e-01  4.36199903e-02 -1.43810034e-01\n",
      " -2.12600231e-02  5.69400191e-02  1.43260002e-01 -2.31916994e-01\n",
      "  4.14530039e-02  1.49414003e-01 -3.45479995e-01  1.81056008e-01\n",
      " -1.96913987e-01  4.18929994e-01  7.04900026e-02 -5.54199994e-01\n",
      "  1.53620005e-01 -3.32746983e-01  1.96673006e-01  2.28708997e-01\n",
      " -1.90109015e-01  6.14840031e-01 -1.47599876e-02  9.14819986e-02\n",
      "  1.61940008e-01  3.72728974e-01 -4.35409993e-01  6.40400052e-02\n",
      " -1.32499009e-01 -3.14980984e-01 -3.88899803e-01 -2.78289974e-01\n",
      " -2.70697117e-01  3.10180008e-01  4.21261966e-01  2.94389963e-01\n",
      " -3.39340001e-01 -4.82995987e-01 -1.68392003e-01 -2.90679991e-01\n",
      "  9.46699381e-02 -8.60005617e-04 -1.81119978e-01  1.73963994e-01\n",
      " -8.38200450e-02 -1.96879983e-01 -1.97699964e-02 -3.98839980e-01\n",
      " -9.22995806e-03 -5.68470001e-01 -2.96500027e-02  1.48237020e-01\n",
      "  2.40200043e-01 -2.56569982e-02  9.62323993e-02  2.44759008e-01\n",
      "  1.39010996e-01  1.29229009e-01 -1.63280010e-01 -3.80607009e-01\n",
      " -9.02009964e-01  3.35201025e-02  1.73454002e-01  3.68169963e-01\n",
      " -8.57100189e-02 -5.19245006e-02  2.59000003e-01 -3.21630001e-01\n",
      "  2.07988024e-01  1.98262006e-01 -1.49540007e-01 -3.42249990e-01\n",
      " -4.98499870e-02  9.72899795e-02  2.53033996e-01  2.24599957e-01]\n"
     ]
    }
   ],
   "source": [
    "xw = glove_model['man']\n",
    "lr = nidxv(xw, glove_model)\n",
    "print(lr)\n"
   ]
  },
  {
   "cell_type": "code",
   "execution_count": 13,
   "metadata": {},
   "outputs": [
    {
     "data": {
      "text/plain": [
       "array([4.84541851, 4.85488092])"
      ]
     },
     "execution_count": 13,
     "metadata": {},
     "output_type": "execute_result"
    }
   ],
   "source": [
    "t = np.zeros((2, 300))\n",
    "t[0] = glove_model['man']\n",
    "t[1] = glove_model['woman']\n",
    "sim_vec(t)"
   ]
  },
  {
   "cell_type": "code",
   "execution_count": 14,
   "metadata": {},
   "outputs": [],
   "source": [
    "ts = 40001\n",
    "j = 0\n",
    "test = np.empty(ts,dtype=object)\n",
    "for w in list(glove_model.vocab.keys())[:ts]:\n",
    "    test[j] = glove_model[w]\n",
    "    j = j + 1"
   ]
  },
  {
   "cell_type": "code",
   "execution_count": 15,
   "metadata": {},
   "outputs": [
    {
     "data": {
      "text/html": [
       "<div>\n",
       "<style scoped>\n",
       "    .dataframe tbody tr th:only-of-type {\n",
       "        vertical-align: middle;\n",
       "    }\n",
       "\n",
       "    .dataframe tbody tr th {\n",
       "        vertical-align: top;\n",
       "    }\n",
       "\n",
       "    .dataframe thead th {\n",
       "        text-align: right;\n",
       "    }\n",
       "</style>\n",
       "<table border=\"1\" class=\"dataframe\">\n",
       "  <thead>\n",
       "    <tr style=\"text-align: right;\">\n",
       "      <th></th>\n",
       "      <th>f0</th>\n",
       "      <th>f1</th>\n",
       "      <th>f2</th>\n",
       "      <th>f3</th>\n",
       "      <th>f4</th>\n",
       "      <th>f5</th>\n",
       "      <th>f6</th>\n",
       "      <th>f7</th>\n",
       "      <th>f8</th>\n",
       "      <th>f9</th>\n",
       "      <th>...</th>\n",
       "      <th>f290</th>\n",
       "      <th>f291</th>\n",
       "      <th>f292</th>\n",
       "      <th>f293</th>\n",
       "      <th>f294</th>\n",
       "      <th>f295</th>\n",
       "      <th>f296</th>\n",
       "      <th>f297</th>\n",
       "      <th>f298</th>\n",
       "      <th>f299</th>\n",
       "    </tr>\n",
       "  </thead>\n",
       "  <tbody>\n",
       "    <tr>\n",
       "      <td>Row 0</td>\n",
       "      <td>0.046560</td>\n",
       "      <td>0.213180</td>\n",
       "      <td>-0.007436</td>\n",
       "      <td>-0.458540</td>\n",
       "      <td>-0.035639</td>\n",
       "      <td>0.236430</td>\n",
       "      <td>-0.288360</td>\n",
       "      <td>0.215210</td>\n",
       "      <td>-0.134860</td>\n",
       "      <td>-1.6413</td>\n",
       "      <td>...</td>\n",
       "      <td>-0.013064</td>\n",
       "      <td>-0.296860</td>\n",
       "      <td>-0.079913</td>\n",
       "      <td>0.195000</td>\n",
       "      <td>0.031549</td>\n",
       "      <td>0.285060</td>\n",
       "      <td>-0.087461</td>\n",
       "      <td>0.009061</td>\n",
       "      <td>-0.209890</td>\n",
       "      <td>0.053913</td>\n",
       "    </tr>\n",
       "    <tr>\n",
       "      <td>Row 1</td>\n",
       "      <td>-0.255390</td>\n",
       "      <td>-0.257230</td>\n",
       "      <td>0.131690</td>\n",
       "      <td>-0.042688</td>\n",
       "      <td>0.218170</td>\n",
       "      <td>-0.022702</td>\n",
       "      <td>-0.178540</td>\n",
       "      <td>0.107560</td>\n",
       "      <td>0.058936</td>\n",
       "      <td>-1.3854</td>\n",
       "      <td>...</td>\n",
       "      <td>0.075968</td>\n",
       "      <td>-0.014359</td>\n",
       "      <td>-0.073794</td>\n",
       "      <td>0.221760</td>\n",
       "      <td>0.146520</td>\n",
       "      <td>0.566860</td>\n",
       "      <td>0.053307</td>\n",
       "      <td>-0.232900</td>\n",
       "      <td>-0.122260</td>\n",
       "      <td>0.354990</td>\n",
       "    </tr>\n",
       "    <tr>\n",
       "      <td>Row 2</td>\n",
       "      <td>-0.125590</td>\n",
       "      <td>0.013630</td>\n",
       "      <td>0.103060</td>\n",
       "      <td>-0.101230</td>\n",
       "      <td>0.098128</td>\n",
       "      <td>0.136270</td>\n",
       "      <td>-0.107210</td>\n",
       "      <td>0.236970</td>\n",
       "      <td>0.328700</td>\n",
       "      <td>-1.6785</td>\n",
       "      <td>...</td>\n",
       "      <td>0.060148</td>\n",
       "      <td>-0.156190</td>\n",
       "      <td>-0.119490</td>\n",
       "      <td>0.234450</td>\n",
       "      <td>0.081367</td>\n",
       "      <td>0.246180</td>\n",
       "      <td>-0.152420</td>\n",
       "      <td>-0.342240</td>\n",
       "      <td>-0.022394</td>\n",
       "      <td>0.136840</td>\n",
       "    </tr>\n",
       "    <tr>\n",
       "      <td>Row 3</td>\n",
       "      <td>-0.076947</td>\n",
       "      <td>-0.021211</td>\n",
       "      <td>0.212710</td>\n",
       "      <td>-0.722320</td>\n",
       "      <td>-0.139880</td>\n",
       "      <td>-0.122340</td>\n",
       "      <td>-0.175210</td>\n",
       "      <td>0.121370</td>\n",
       "      <td>-0.070866</td>\n",
       "      <td>-1.5721</td>\n",
       "      <td>...</td>\n",
       "      <td>-0.366730</td>\n",
       "      <td>-0.386030</td>\n",
       "      <td>0.302900</td>\n",
       "      <td>0.015747</td>\n",
       "      <td>0.340360</td>\n",
       "      <td>0.478410</td>\n",
       "      <td>0.068617</td>\n",
       "      <td>0.183510</td>\n",
       "      <td>-0.291830</td>\n",
       "      <td>-0.046533</td>\n",
       "    </tr>\n",
       "    <tr>\n",
       "      <td>Row 4</td>\n",
       "      <td>-0.257560</td>\n",
       "      <td>-0.057132</td>\n",
       "      <td>-0.671900</td>\n",
       "      <td>-0.380820</td>\n",
       "      <td>-0.364210</td>\n",
       "      <td>-0.082155</td>\n",
       "      <td>-0.010955</td>\n",
       "      <td>-0.082047</td>\n",
       "      <td>0.460560</td>\n",
       "      <td>-1.8477</td>\n",
       "      <td>...</td>\n",
       "      <td>-0.012806</td>\n",
       "      <td>-0.597070</td>\n",
       "      <td>0.317340</td>\n",
       "      <td>-0.252670</td>\n",
       "      <td>0.543840</td>\n",
       "      <td>0.063007</td>\n",
       "      <td>-0.049795</td>\n",
       "      <td>-0.160430</td>\n",
       "      <td>0.046744</td>\n",
       "      <td>-0.070621</td>\n",
       "    </tr>\n",
       "  </tbody>\n",
       "</table>\n",
       "<p>5 rows × 300 columns</p>\n",
       "</div>"
      ],
      "text/plain": [
       "             f0        f1        f2        f3        f4        f5        f6  \\\n",
       "Row 0  0.046560  0.213180 -0.007436 -0.458540 -0.035639  0.236430 -0.288360   \n",
       "Row 1 -0.255390 -0.257230  0.131690 -0.042688  0.218170 -0.022702 -0.178540   \n",
       "Row 2 -0.125590  0.013630  0.103060 -0.101230  0.098128  0.136270 -0.107210   \n",
       "Row 3 -0.076947 -0.021211  0.212710 -0.722320 -0.139880 -0.122340 -0.175210   \n",
       "Row 4 -0.257560 -0.057132 -0.671900 -0.380820 -0.364210 -0.082155 -0.010955   \n",
       "\n",
       "             f7        f8      f9  ...      f290      f291      f292  \\\n",
       "Row 0  0.215210 -0.134860 -1.6413  ... -0.013064 -0.296860 -0.079913   \n",
       "Row 1  0.107560  0.058936 -1.3854  ...  0.075968 -0.014359 -0.073794   \n",
       "Row 2  0.236970  0.328700 -1.6785  ...  0.060148 -0.156190 -0.119490   \n",
       "Row 3  0.121370 -0.070866 -1.5721  ... -0.366730 -0.386030  0.302900   \n",
       "Row 4 -0.082047  0.460560 -1.8477  ... -0.012806 -0.597070  0.317340   \n",
       "\n",
       "           f293      f294      f295      f296      f297      f298      f299  \n",
       "Row 0  0.195000  0.031549  0.285060 -0.087461  0.009061 -0.209890  0.053913  \n",
       "Row 1  0.221760  0.146520  0.566860  0.053307 -0.232900 -0.122260  0.354990  \n",
       "Row 2  0.234450  0.081367  0.246180 -0.152420 -0.342240 -0.022394  0.136840  \n",
       "Row 3  0.015747  0.340360  0.478410  0.068617  0.183510 -0.291830 -0.046533  \n",
       "Row 4 -0.252670  0.543840  0.063007 -0.049795 -0.160430  0.046744 -0.070621  \n",
       "\n",
       "[5 rows x 300 columns]"
      ]
     },
     "execution_count": 15,
     "metadata": {},
     "output_type": "execute_result"
    }
   ],
   "source": [
    "features = np.stack(test[:])\n",
    "df_features = pandas.DataFrame(features[0:,0:], \n",
    "                      index=['Row '+str(i) for i in range(features.shape[0])], \n",
    "                      columns=['f'+str(i) for i in range(features.shape[1])]\n",
    "                     )\n",
    "df_features.head()\n",
    "\n"
   ]
  },
  {
   "cell_type": "code",
   "execution_count": null,
   "metadata": {},
   "outputs": [],
   "source": []
  },
  {
   "cell_type": "code",
   "execution_count": 20,
   "metadata": {},
   "outputs": [],
   "source": [
    "bckgr = shap.sample(df_features, 100)\n",
    "explainer = shap.SamplingExplainer(sim_vec, bckgr)"
   ]
  },
  {
   "cell_type": "code",
   "execution_count": 17,
   "metadata": {},
   "outputs": [],
   "source": [
    "x_test = df_features[:10]"
   ]
  },
  {
   "cell_type": "code",
   "execution_count": 21,
   "metadata": {
    "scrolled": false
   },
   "outputs": [
    {
     "data": {
      "application/vnd.jupyter.widget-view+json": {
       "model_id": "c834e8ebef29403bbc1452908b27d7d1",
       "version_major": 2,
       "version_minor": 0
      },
      "text/plain": [
       "HBox(children=(IntProgress(value=0, max=10), HTML(value='')))"
      ]
     },
     "metadata": {},
     "output_type": "display_data"
    },
    {
     "ename": "KeyboardInterrupt",
     "evalue": "",
     "output_type": "error",
     "traceback": [
      "\u001B[0;31m---------------------------------------------------------------------------\u001B[0m",
      "\u001B[0;31mKeyboardInterrupt\u001B[0m                         Traceback (most recent call last)",
      "\u001B[0;32m<ipython-input-21-dfe5617cad9f>\u001B[0m in \u001B[0;36m<module>\u001B[0;34m\u001B[0m\n\u001B[0;32m----> 1\u001B[0;31m \u001B[0mshap_values\u001B[0m \u001B[0;34m=\u001B[0m \u001B[0mexplainer\u001B[0m\u001B[0;34m.\u001B[0m\u001B[0mshap_values\u001B[0m\u001B[0;34m(\u001B[0m\u001B[0mx_test\u001B[0m\u001B[0;34m)\u001B[0m\u001B[0;34m\u001B[0m\u001B[0;34m\u001B[0m\u001B[0m\n\u001B[0m",
      "\u001B[0;32m/anaconda3/lib/python3.7/site-packages/shap/explainers/kernel.py\u001B[0m in \u001B[0;36mshap_values\u001B[0;34m(self, X, **kwargs)\u001B[0m\n\u001B[1;32m    209\u001B[0m                 \u001B[0;32mif\u001B[0m \u001B[0mself\u001B[0m\u001B[0;34m.\u001B[0m\u001B[0mkeep_index\u001B[0m\u001B[0;34m:\u001B[0m\u001B[0;34m\u001B[0m\u001B[0;34m\u001B[0m\u001B[0m\n\u001B[1;32m    210\u001B[0m                     \u001B[0mdata\u001B[0m \u001B[0;34m=\u001B[0m \u001B[0mconvert_to_instance_with_index\u001B[0m\u001B[0;34m(\u001B[0m\u001B[0mdata\u001B[0m\u001B[0;34m,\u001B[0m \u001B[0mcolumn_name\u001B[0m\u001B[0;34m,\u001B[0m \u001B[0mindex_value\u001B[0m\u001B[0;34m[\u001B[0m\u001B[0mi\u001B[0m\u001B[0;34m:\u001B[0m\u001B[0mi\u001B[0m \u001B[0;34m+\u001B[0m \u001B[0;36m1\u001B[0m\u001B[0;34m]\u001B[0m\u001B[0;34m,\u001B[0m \u001B[0mindex_name\u001B[0m\u001B[0;34m)\u001B[0m\u001B[0;34m\u001B[0m\u001B[0;34m\u001B[0m\u001B[0m\n\u001B[0;32m--> 211\u001B[0;31m                 \u001B[0mexplanations\u001B[0m\u001B[0;34m.\u001B[0m\u001B[0mappend\u001B[0m\u001B[0;34m(\u001B[0m\u001B[0mself\u001B[0m\u001B[0;34m.\u001B[0m\u001B[0mexplain\u001B[0m\u001B[0;34m(\u001B[0m\u001B[0mdata\u001B[0m\u001B[0;34m,\u001B[0m \u001B[0;34m**\u001B[0m\u001B[0mkwargs\u001B[0m\u001B[0;34m)\u001B[0m\u001B[0;34m)\u001B[0m\u001B[0;34m\u001B[0m\u001B[0;34m\u001B[0m\u001B[0m\n\u001B[0m\u001B[1;32m    212\u001B[0m \u001B[0;34m\u001B[0m\u001B[0m\n\u001B[1;32m    213\u001B[0m             \u001B[0;31m# vector-output\u001B[0m\u001B[0;34m\u001B[0m\u001B[0;34m\u001B[0m\u001B[0;34m\u001B[0m\u001B[0m\n",
      "\u001B[0;32m/anaconda3/lib/python3.7/site-packages/shap/explainers/sampling.py\u001B[0m in \u001B[0;36mexplain\u001B[0;34m(self, incoming_instance, **kwargs)\u001B[0m\n\u001B[1;32m    108\u001B[0m             \u001B[0mself\u001B[0m\u001B[0;34m.\u001B[0m\u001B[0mX_masked\u001B[0m \u001B[0;34m=\u001B[0m \u001B[0mnp\u001B[0m\u001B[0;34m.\u001B[0m\u001B[0mzeros\u001B[0m\u001B[0;34m(\u001B[0m\u001B[0;34m(\u001B[0m\u001B[0mnsamples_each1\u001B[0m\u001B[0;34m.\u001B[0m\u001B[0mmax\u001B[0m\u001B[0;34m(\u001B[0m\u001B[0;34m)\u001B[0m\u001B[0;34m,\u001B[0m \u001B[0mself\u001B[0m\u001B[0;34m.\u001B[0m\u001B[0mdata\u001B[0m\u001B[0;34m.\u001B[0m\u001B[0mdata\u001B[0m\u001B[0;34m.\u001B[0m\u001B[0mshape\u001B[0m\u001B[0;34m[\u001B[0m\u001B[0;36m1\u001B[0m\u001B[0;34m]\u001B[0m\u001B[0;34m)\u001B[0m\u001B[0;34m)\u001B[0m\u001B[0;34m\u001B[0m\u001B[0;34m\u001B[0m\u001B[0m\n\u001B[1;32m    109\u001B[0m             \u001B[0;32mfor\u001B[0m \u001B[0mi\u001B[0m\u001B[0;34m,\u001B[0m\u001B[0mind\u001B[0m \u001B[0;32min\u001B[0m \u001B[0menumerate\u001B[0m\u001B[0;34m(\u001B[0m\u001B[0mself\u001B[0m\u001B[0;34m.\u001B[0m\u001B[0mvaryingInds\u001B[0m\u001B[0;34m)\u001B[0m\u001B[0;34m:\u001B[0m\u001B[0;34m\u001B[0m\u001B[0;34m\u001B[0m\u001B[0m\n\u001B[0;32m--> 110\u001B[0;31m                 \u001B[0mphi\u001B[0m\u001B[0;34m[\u001B[0m\u001B[0mind\u001B[0m\u001B[0;34m,\u001B[0m\u001B[0;34m:\u001B[0m\u001B[0;34m]\u001B[0m\u001B[0;34m,\u001B[0m\u001B[0mphi_var\u001B[0m\u001B[0;34m[\u001B[0m\u001B[0mind\u001B[0m\u001B[0;34m,\u001B[0m\u001B[0;34m:\u001B[0m\u001B[0;34m]\u001B[0m \u001B[0;34m=\u001B[0m \u001B[0mself\u001B[0m\u001B[0;34m.\u001B[0m\u001B[0msampling_estimate\u001B[0m\u001B[0;34m(\u001B[0m\u001B[0mind\u001B[0m\u001B[0;34m,\u001B[0m \u001B[0mself\u001B[0m\u001B[0;34m.\u001B[0m\u001B[0mmodel\u001B[0m\u001B[0;34m.\u001B[0m\u001B[0mf\u001B[0m\u001B[0;34m,\u001B[0m \u001B[0minstance\u001B[0m\u001B[0;34m.\u001B[0m\u001B[0mx\u001B[0m\u001B[0;34m,\u001B[0m \u001B[0mself\u001B[0m\u001B[0;34m.\u001B[0m\u001B[0mdata\u001B[0m\u001B[0;34m.\u001B[0m\u001B[0mdata\u001B[0m\u001B[0;34m,\u001B[0m \u001B[0mnsamples\u001B[0m\u001B[0;34m=\u001B[0m\u001B[0mnsamples_each1\u001B[0m\u001B[0;34m[\u001B[0m\u001B[0mi\u001B[0m\u001B[0;34m]\u001B[0m\u001B[0;34m)\u001B[0m\u001B[0;34m\u001B[0m\u001B[0;34m\u001B[0m\u001B[0m\n\u001B[0m\u001B[1;32m    111\u001B[0m \u001B[0;34m\u001B[0m\u001B[0m\n\u001B[1;32m    112\u001B[0m             \u001B[0;31m# optimally allocate samples according to the variance\u001B[0m\u001B[0;34m\u001B[0m\u001B[0;34m\u001B[0m\u001B[0;34m\u001B[0m\u001B[0m\n",
      "\u001B[0;32m/anaconda3/lib/python3.7/site-packages/shap/explainers/sampling.py\u001B[0m in \u001B[0;36msampling_estimate\u001B[0;34m(self, j, f, x, X, nsamples)\u001B[0m\n\u001B[1;32m    170\u001B[0m             \u001B[0mX_masked\u001B[0m\u001B[0;34m[\u001B[0m\u001B[0;34m-\u001B[0m\u001B[0;34m(\u001B[0m\u001B[0mi\u001B[0m\u001B[0;34m+\u001B[0m\u001B[0;36m1\u001B[0m\u001B[0;34m)\u001B[0m\u001B[0;34m,\u001B[0m \u001B[0minds\u001B[0m\u001B[0;34m[\u001B[0m\u001B[0mpos\u001B[0m\u001B[0;34m:\u001B[0m\u001B[0;34m]\u001B[0m\u001B[0;34m]\u001B[0m \u001B[0;34m=\u001B[0m \u001B[0mX\u001B[0m\u001B[0;34m[\u001B[0m\u001B[0mrind\u001B[0m\u001B[0;34m,\u001B[0m \u001B[0minds\u001B[0m\u001B[0;34m[\u001B[0m\u001B[0mpos\u001B[0m\u001B[0;34m:\u001B[0m\u001B[0;34m]\u001B[0m\u001B[0;34m]\u001B[0m\u001B[0;34m\u001B[0m\u001B[0;34m\u001B[0m\u001B[0m\n\u001B[1;32m    171\u001B[0m \u001B[0;34m\u001B[0m\u001B[0m\n\u001B[0;32m--> 172\u001B[0;31m         \u001B[0mevals\u001B[0m \u001B[0;34m=\u001B[0m \u001B[0mf\u001B[0m\u001B[0;34m(\u001B[0m\u001B[0mX_masked\u001B[0m\u001B[0;34m)\u001B[0m\u001B[0;34m\u001B[0m\u001B[0;34m\u001B[0m\u001B[0m\n\u001B[0m\u001B[1;32m    173\u001B[0m         \u001B[0mevals_on\u001B[0m \u001B[0;34m=\u001B[0m \u001B[0mevals\u001B[0m\u001B[0;34m[\u001B[0m\u001B[0;34m:\u001B[0m\u001B[0mnsamples\u001B[0m\u001B[0;34m//\u001B[0m\u001B[0;36m2\u001B[0m\u001B[0;34m]\u001B[0m\u001B[0;34m\u001B[0m\u001B[0;34m\u001B[0m\u001B[0m\n\u001B[1;32m    174\u001B[0m         \u001B[0mevals_off\u001B[0m \u001B[0;34m=\u001B[0m \u001B[0mevals\u001B[0m\u001B[0;34m[\u001B[0m\u001B[0mnsamples\u001B[0m\u001B[0;34m//\u001B[0m\u001B[0;36m2\u001B[0m\u001B[0;34m:\u001B[0m\u001B[0;34m]\u001B[0m\u001B[0;34m[\u001B[0m\u001B[0;34m:\u001B[0m\u001B[0;34m:\u001B[0m\u001B[0;34m-\u001B[0m\u001B[0;36m1\u001B[0m\u001B[0;34m]\u001B[0m\u001B[0;34m\u001B[0m\u001B[0;34m\u001B[0m\u001B[0m\n",
      "\u001B[0;32m<ipython-input-11-dc0b0ce93c94>\u001B[0m in \u001B[0;36msim_vec\u001B[0;34m(vecs)\u001B[0m\n\u001B[1;32m      3\u001B[0m     \u001B[0mi\u001B[0m \u001B[0;34m=\u001B[0m \u001B[0;36m0\u001B[0m\u001B[0;34m\u001B[0m\u001B[0;34m\u001B[0m\u001B[0m\n\u001B[1;32m      4\u001B[0m     \u001B[0;32mfor\u001B[0m \u001B[0mv\u001B[0m \u001B[0;32min\u001B[0m \u001B[0mvecs\u001B[0m\u001B[0;34m:\u001B[0m\u001B[0;34m\u001B[0m\u001B[0;34m\u001B[0m\u001B[0m\n\u001B[0;32m----> 5\u001B[0;31m         \u001B[0mres\u001B[0m\u001B[0;34m[\u001B[0m\u001B[0mi\u001B[0m\u001B[0;34m]\u001B[0m \u001B[0;34m=\u001B[0m \u001B[0mabs\u001B[0m\u001B[0;34m(\u001B[0m\u001B[0mnidxv\u001B[0m\u001B[0;34m(\u001B[0m\u001B[0mv\u001B[0m\u001B[0;34m,\u001B[0m \u001B[0mglove_model\u001B[0m\u001B[0;34m)\u001B[0m\u001B[0;34m.\u001B[0m\u001B[0msum\u001B[0m\u001B[0;34m(\u001B[0m\u001B[0maxis\u001B[0m \u001B[0;34m=\u001B[0m \u001B[0;36m0\u001B[0m\u001B[0;34m)\u001B[0m\u001B[0;34m)\u001B[0m\u001B[0;34m\u001B[0m\u001B[0;34m\u001B[0m\u001B[0m\n\u001B[0m\u001B[1;32m      6\u001B[0m         \u001B[0mi\u001B[0m \u001B[0;34m=\u001B[0m \u001B[0mi\u001B[0m\u001B[0;34m+\u001B[0m\u001B[0;36m1\u001B[0m\u001B[0;34m\u001B[0m\u001B[0;34m\u001B[0m\u001B[0m\n\u001B[1;32m      7\u001B[0m     \u001B[0;32mreturn\u001B[0m \u001B[0mres\u001B[0m\u001B[0;34m\u001B[0m\u001B[0;34m\u001B[0m\u001B[0m\n",
      "\u001B[0;32m<ipython-input-3-cb9f486c2136>\u001B[0m in \u001B[0;36mnidxv\u001B[0;34m(v, model)\u001B[0m\n\u001B[1;32m      1\u001B[0m \u001B[0;32mdef\u001B[0m \u001B[0mnidxv\u001B[0m\u001B[0;34m(\u001B[0m\u001B[0mv\u001B[0m\u001B[0;34m,\u001B[0m \u001B[0mmodel\u001B[0m\u001B[0;34m)\u001B[0m\u001B[0;34m:\u001B[0m\u001B[0;34m\u001B[0m\u001B[0;34m\u001B[0m\u001B[0m\n\u001B[0;32m----> 2\u001B[0;31m     \u001B[0;32mreturn\u001B[0m \u001B[0mnp\u001B[0m\u001B[0;34m.\u001B[0m\u001B[0marray\u001B[0m\u001B[0;34m(\u001B[0m\u001B[0mmodel\u001B[0m\u001B[0;34m[\u001B[0m\u001B[0mnp\u001B[0m\u001B[0;34m.\u001B[0m\u001B[0marray\u001B[0m\u001B[0;34m(\u001B[0m\u001B[0mmodel\u001B[0m\u001B[0;34m.\u001B[0m\u001B[0msimilar_by_vector\u001B[0m\u001B[0;34m(\u001B[0m\u001B[0mv\u001B[0m\u001B[0;34m,\u001B[0m \u001B[0mtopn\u001B[0m\u001B[0;34m=\u001B[0m\u001B[0;36m2\u001B[0m\u001B[0;34m)\u001B[0m\u001B[0;34m)\u001B[0m\u001B[0;34m[\u001B[0m\u001B[0;34m:\u001B[0m\u001B[0;34m,\u001B[0m\u001B[0;36m0\u001B[0m\u001B[0;34m]\u001B[0m\u001B[0;34m]\u001B[0m\u001B[0;34m)\u001B[0m\u001B[0;34m.\u001B[0m\u001B[0msum\u001B[0m\u001B[0;34m(\u001B[0m\u001B[0;36m0\u001B[0m\u001B[0;34m)\u001B[0m \u001B[0;34m-\u001B[0m \u001B[0;36m2\u001B[0m\u001B[0;34m*\u001B[0m\u001B[0mv\u001B[0m\u001B[0;34m\u001B[0m\u001B[0;34m\u001B[0m\u001B[0m\n\u001B[0m",
      "\u001B[0;32m/anaconda3/lib/python3.7/site-packages/gensim/models/keyedvectors.py\u001B[0m in \u001B[0;36msimilar_by_vector\u001B[0;34m(self, vector, topn, restrict_vocab)\u001B[0m\n\u001B[1;32m    619\u001B[0m \u001B[0;34m\u001B[0m\u001B[0m\n\u001B[1;32m    620\u001B[0m         \"\"\"\n\u001B[0;32m--> 621\u001B[0;31m         \u001B[0;32mreturn\u001B[0m \u001B[0mself\u001B[0m\u001B[0;34m.\u001B[0m\u001B[0mmost_similar\u001B[0m\u001B[0;34m(\u001B[0m\u001B[0mpositive\u001B[0m\u001B[0;34m=\u001B[0m\u001B[0;34m[\u001B[0m\u001B[0mvector\u001B[0m\u001B[0;34m]\u001B[0m\u001B[0;34m,\u001B[0m \u001B[0mtopn\u001B[0m\u001B[0;34m=\u001B[0m\u001B[0mtopn\u001B[0m\u001B[0;34m,\u001B[0m \u001B[0mrestrict_vocab\u001B[0m\u001B[0;34m=\u001B[0m\u001B[0mrestrict_vocab\u001B[0m\u001B[0;34m)\u001B[0m\u001B[0;34m\u001B[0m\u001B[0;34m\u001B[0m\u001B[0m\n\u001B[0m\u001B[1;32m    622\u001B[0m \u001B[0;34m\u001B[0m\u001B[0m\n\u001B[1;32m    623\u001B[0m     @deprecated(\n",
      "\u001B[0;32m/anaconda3/lib/python3.7/site-packages/gensim/models/keyedvectors.py\u001B[0m in \u001B[0;36mmost_similar\u001B[0;34m(self, positive, negative, topn, restrict_vocab, indexer)\u001B[0m\n\u001B[1;32m    561\u001B[0m \u001B[0;34m\u001B[0m\u001B[0m\n\u001B[1;32m    562\u001B[0m         \u001B[0mlimited\u001B[0m \u001B[0;34m=\u001B[0m \u001B[0mself\u001B[0m\u001B[0;34m.\u001B[0m\u001B[0mvectors_norm\u001B[0m \u001B[0;32mif\u001B[0m \u001B[0mrestrict_vocab\u001B[0m \u001B[0;32mis\u001B[0m \u001B[0;32mNone\u001B[0m \u001B[0;32melse\u001B[0m \u001B[0mself\u001B[0m\u001B[0;34m.\u001B[0m\u001B[0mvectors_norm\u001B[0m\u001B[0;34m[\u001B[0m\u001B[0;34m:\u001B[0m\u001B[0mrestrict_vocab\u001B[0m\u001B[0;34m]\u001B[0m\u001B[0;34m\u001B[0m\u001B[0;34m\u001B[0m\u001B[0m\n\u001B[0;32m--> 563\u001B[0;31m         \u001B[0mdists\u001B[0m \u001B[0;34m=\u001B[0m \u001B[0mdot\u001B[0m\u001B[0;34m(\u001B[0m\u001B[0mlimited\u001B[0m\u001B[0;34m,\u001B[0m \u001B[0mmean\u001B[0m\u001B[0;34m)\u001B[0m\u001B[0;34m\u001B[0m\u001B[0;34m\u001B[0m\u001B[0m\n\u001B[0m\u001B[1;32m    564\u001B[0m         \u001B[0;32mif\u001B[0m \u001B[0;32mnot\u001B[0m \u001B[0mtopn\u001B[0m\u001B[0;34m:\u001B[0m\u001B[0;34m\u001B[0m\u001B[0;34m\u001B[0m\u001B[0m\n\u001B[1;32m    565\u001B[0m             \u001B[0;32mreturn\u001B[0m \u001B[0mdists\u001B[0m\u001B[0;34m\u001B[0m\u001B[0;34m\u001B[0m\u001B[0m\n",
      "\u001B[0;32m<__array_function__ internals>\u001B[0m in \u001B[0;36mdot\u001B[0;34m(*args, **kwargs)\u001B[0m\n",
      "\u001B[0;31mKeyboardInterrupt\u001B[0m: "
     ]
    }
   ],
   "source": [
    "shap_values = explainer.shap_values(x_test)\n"
   ]
  },
  {
   "cell_type": "code",
   "execution_count": null,
   "metadata": {},
   "outputs": [],
   "source": [
    "shap.summary_plot(shap_values, bckgr)"
   ]
  },
  {
   "cell_type": "code",
   "execution_count": 140,
   "metadata": {},
   "outputs": [
    {
     "data": {
      "text/plain": [
       "(400001, 50)"
      ]
     },
     "execution_count": 140,
     "metadata": {},
     "output_type": "execute_result"
    }
   ],
   "source": [
    "newweights = np.copy(glove_model.vectors)\n",
    "newweights.shape"
   ]
  },
  {
   "cell_type": "code",
   "execution_count": null,
   "metadata": {},
   "outputs": [],
   "source": [
    "#glove_model.vectors = weights\n",
    "print(glove_model.most_similar(positive=['man']))\n",
    "glove_model.save_word2vec_format('glove-vectors.txt', binary=False)"
   ]
  },
  {
   "cell_type": "code",
   "execution_count": 141,
   "metadata": {},
   "outputs": [],
   "source": [
    "\n",
    "newweights = newweights[:, [30, 25, 26, 18, 2, 11, 49, 33]]"
   ]
  },
  {
   "cell_type": "code",
   "execution_count": 142,
   "metadata": {
    "pycharm": {
     "name": "#%%\n"
    }
   },
   "outputs": [
    {
     "name": "stdout",
     "output_type": "stream",
     "text": [
      "[('boy', 0.9864449501037598), (\"'s\", 0.9848877787590027), ('blow', 0.9708280563354492), ('war', 0.9698127508163452), ('ear', 0.9680918455123901), ('head', 0.9666916131973267), ('youngest', 0.9665636420249939), ('dubbed', 0.9646068811416626), ('bend', 0.9644647836685181), ('throat', 0.9636381268501282)]\n"
     ]
    }
   ],
   "source": [
    "glove_model.vectors = newweights\n",
    "print(glove_model.most_similar(positive=['man']))\n",
    "glove_model.save_word2vec_format('shap-reduced-diff-8-vectors.txt', binary=False)"
   ]
  }
 ],
 "metadata": {
  "kernelspec": {
   "display_name": "Python 3",
   "language": "python",
   "name": "python3"
  },
  "language_info": {
   "codemirror_mode": {
    "name": "ipython",
    "version": 3
   },
   "file_extension": ".py",
   "mimetype": "text/x-python",
   "name": "python",
   "nbconvert_exporter": "python",
   "pygments_lexer": "ipython3",
   "version": "3.7.4"
  }
 },
 "nbformat": 4,
 "nbformat_minor": 2
}